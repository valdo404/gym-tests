{
 "cells": [
  {
   "cell_type": "code",
   "execution_count": 1,
   "id": "02d39a02-17f2-4307-8d41-6903c289e9d2",
   "metadata": {
    "ExecuteTime": {
     "end_time": "2024-12-29T19:26:44.051696Z",
     "start_time": "2024-12-29T19:26:42.404515Z"
    }
   },
   "outputs": [
    {
     "name": "stdout",
     "output_type": "stream",
     "text": [
      "Eager Execution Enabled: True\n",
      "Available Devices:\n",
      "PhysicalDevice(name='/physical_device:CPU:0', device_type='CPU')\n",
      "PhysicalDevice(name='/physical_device:GPU:0', device_type='GPU')\n"
     ]
    }
   ],
   "source": [
    "import tensorflow as tf\n",
    "\n",
    "from tensorflow.python.framework.ops import EagerTensor\n",
    "print(\"Eager Execution Enabled:\", tf.executing_eagerly())\n",
    "print(\"Available Devices:\")\n",
    "for device in tf.config.list_physical_devices():\n",
    "    print(device)\n",
    "\n",
    "tf.debugging.set_log_device_placement(False)"
   ]
  },
  {
   "cell_type": "code",
   "execution_count": 2,
   "id": "5a948f66-bc82-4e98-bb2c-d4e6a5d6c353",
   "metadata": {},
   "outputs": [],
   "source": [
    "%load_ext tensorboard\n"
   ]
  },
  {
   "cell_type": "code",
   "execution_count": 3,
   "id": "793e06aa-0230-433f-a92a-6c32846bc444",
   "metadata": {
    "ExecuteTime": {
     "end_time": "2024-12-29T19:27:50.307150Z",
     "start_time": "2024-12-29T19:27:50.304200Z"
    }
   },
   "outputs": [
    {
     "name": "stdout",
     "output_type": "stream",
     "text": [
      "()\n"
     ]
    },
    {
     "name": "stderr",
     "output_type": "stream",
     "text": [
      "2024-12-29 23:09:19.737726: I metal_plugin/src/device/metal_device.cc:1154] Metal device set to: Apple M2\n",
      "2024-12-29 23:09:19.737750: I metal_plugin/src/device/metal_device.cc:296] systemMemory: 16.00 GB\n",
      "2024-12-29 23:09:19.737756: I metal_plugin/src/device/metal_device.cc:313] maxCacheSize: 5.33 GB\n",
      "2024-12-29 23:09:19.737769: I tensorflow/core/common_runtime/pluggable_device/pluggable_device_factory.cc:305] Could not identify NUMA node of platform GPU ID 0, defaulting to 0. Your kernel may not have been built with NUMA support.\n",
      "2024-12-29 23:09:19.737778: I tensorflow/core/common_runtime/pluggable_device/pluggable_device_factory.cc:271] Created TensorFlow device (/job:localhost/replica:0/task:0/device:GPU:0 with 0 MB memory) -> physical PluggableDevice (device: 0, name: METAL, pci bus id: <undefined>)\n"
     ]
    }
   ],
   "source": [
    "a = tf.constant(1)\n",
    "print(a.shape)\n"
   ]
  },
  {
   "cell_type": "code",
   "execution_count": 4,
   "id": "4ea11dda-ab38-4e21-97e4-c318c0790ec7",
   "metadata": {
    "ExecuteTime": {
     "end_time": "2024-12-29T19:27:53.630687Z",
     "start_time": "2024-12-29T19:27:53.627165Z"
    }
   },
   "outputs": [
    {
     "name": "stdout",
     "output_type": "stream",
     "text": [
      "(5,)\n"
     ]
    }
   ],
   "source": [
    "b = tf.constant([1,2,3,4,5])\n",
    "print(b.shape)\n"
   ]
  },
  {
   "cell_type": "code",
   "execution_count": 5,
   "id": "a3394f67-a3fc-4c26-887e-70c315703d65",
   "metadata": {
    "ExecuteTime": {
     "end_time": "2024-12-29T19:27:55.934553Z",
     "start_time": "2024-12-29T19:27:55.925292Z"
    }
   },
   "outputs": [
    {
     "name": "stdout",
     "output_type": "stream",
     "text": [
      "[1 2 3]\n",
      "4\n"
     ]
    }
   ],
   "source": [
    "import tensorflow as tf\n",
    "\n",
    "a = tf.constant([1, 2, 3, 4, 5])\n",
    "first_three_elem = a[:3]\n",
    "fourth_elem = a[3]\n",
    "\n",
    "# Directly convert to NumPy or Python objects with .numpy()\n",
    "print(first_three_elem.numpy())  # [1 2 3]\n",
    "print(fourth_elem.numpy()) \n"
   ]
  },
  {
   "cell_type": "code",
   "execution_count": 6,
   "id": "e3b108ce-d5ec-421f-a655-5b9c6ecc299d",
   "metadata": {
    "ExecuteTime": {
     "end_time": "2024-12-29T19:27:58.162658Z",
     "start_time": "2024-12-29T19:27:58.158969Z"
    }
   },
   "outputs": [
    {
     "name": "stdout",
     "output_type": "stream",
     "text": [
      "tf.Tensor([1.  1.1 2.1 3.1], shape=(4,), dtype=float32)\n"
     ]
    }
   ],
   "source": [
    "a = tf.constant([1.0, 1.1, 2.1, 3.1], dtype=tf.float32, name='a_const')\n",
    "print(a)"
   ]
  },
  {
   "cell_type": "code",
   "execution_count": 7,
   "id": "d33d85e8-43e8-4a20-aa31-6303b774d0da",
   "metadata": {
    "ExecuteTime": {
     "end_time": "2024-12-29T19:28:00.310769Z",
     "start_time": "2024-12-29T19:28:00.307345Z"
    }
   },
   "outputs": [],
   "source": [
    "import tensorflow as tf\n",
    "\n",
    "# Instead of using a placeholder + session.run, define everything as tensors:\n",
    "a = tf.constant([[0.1, 0.2, 0.3]], dtype=tf.float32)\n",
    "b = tf.constant([[10, 10, 10]], dtype=tf.float32)\n",
    "\n",
    "# Perform your operation directly\n",
    "c = a + b"
   ]
  },
  {
   "cell_type": "code",
   "execution_count": 8,
   "id": "6ed0c75b-a964-48df-a9dd-b6e0a8dcbafa",
   "metadata": {
    "ExecuteTime": {
     "end_time": "2024-12-29T19:28:02.677382Z",
     "start_time": "2024-12-29T19:28:02.673991Z"
    }
   },
   "outputs": [
    {
     "name": "stdout",
     "output_type": "stream",
     "text": [
      "tf.Tensor([[10.1 10.2 10.3]], shape=(1, 3), dtype=float32)\n"
     ]
    }
   ],
   "source": [
    "print(c)"
   ]
  },
  {
   "cell_type": "code",
   "execution_count": 9,
   "id": "45bdd81b-c86d-4abc-804f-3d43a60382be",
   "metadata": {
    "ExecuteTime": {
     "end_time": "2024-12-29T19:29:26.646642Z",
     "start_time": "2024-12-29T19:29:26.635782Z"
    }
   },
   "outputs": [
    {
     "name": "stdout",
     "output_type": "stream",
     "text": [
      "[[10.1 10.2 10.3]]\n",
      "[[7. 7. 7.]\n",
      " [7. 7. 7.]]\n"
     ]
    }
   ],
   "source": [
    "import numpy as np\n",
    "# In TF 2.x, we don't use placeholders or sessions; instead, we define tensors and operate on them directly.\n",
    "\n",
    "# We'll simulate your input shape (None, 3) by creating two tf.constant tensors from Python lists or NumPy arrays.\n",
    "# 'None' in the first dimension simply means it can be any batch size.\n",
    "\n",
    "a_vals_1 = [[0.1,0.2,0.3]]\n",
    "b_vals_1 = [[10,10,10]]\n",
    "\n",
    "# Create TF tensors\n",
    "a_1 = tf.constant(a_vals_1, dtype=tf.float32)\n",
    "b_1 = tf.constant(b_vals_1, dtype=tf.float32)\n",
    "\n",
    "# Add the tensors\n",
    "c_1 = a_1 + b_1\n",
    "print(c_1.numpy())  # [[10.1 10.2 10.3]]\n",
    "\n",
    "# For the multi-row example\n",
    "v_a = np.array([[1,2,3],[4,5,6]], dtype=np.float32)\n",
    "v_b = np.array([[6,5,4],[3,2,1]], dtype=np.float32)\n",
    "\n",
    "a_2 = tf.constant(v_a, dtype=tf.float32)\n",
    "b_2 = tf.constant(v_b, dtype=tf.float32)\n",
    "\n",
    "c_2 = a_2 + b_2\n",
    "print(c_2.numpy()) "
   ]
  },
  {
   "cell_type": "code",
   "execution_count": 10,
   "id": "0ac17c30-2312-40a2-9df9-66d088e1a6b5",
   "metadata": {},
   "outputs": [
    {
     "name": "stdout",
     "output_type": "stream",
     "text": [
      "[[ 1.1468321 -1.8221927  1.7510278]]\n",
      "[[4 5]]\n"
     ]
    }
   ],
   "source": [
    "import tensorflow as tf\n",
    "import numpy as np\n",
    "\n",
    "# Variable initialized randomly\n",
    "var = tf.Variable(\n",
    "    tf.random.normal([1, 3]),\n",
    "    name=\"first_variable\",\n",
    "    dtype=tf.float32\n",
    ")\n",
    "\n",
    "# Variable initialized with constant values\n",
    "init_val = np.array([4, 5])\n",
    "var2 = tf.Variable(\n",
    "    init_val.reshape([1, 2]),\n",
    "    name=\"second_variable\",\n",
    "    dtype=tf.int32\n",
    ")\n",
    "\n",
    "# In TF 2.x, no session or global init call is needed.\n",
    "print(var.numpy())\n",
    "print(var2.numpy())"
   ]
  },
  {
   "cell_type": "code",
   "execution_count": 11,
   "id": "b3c566e4-6643-4af4-a13f-ed69c6ac259f",
   "metadata": {},
   "outputs": [],
   "source": [
    "var2 = tf.Variable(\n",
    "    tf.zeros([1, 2], dtype=tf.int32),\n",
    "    name=\"variable\",\n",
    "    trainable=False\n",
    ")"
   ]
  },
  {
   "cell_type": "code",
   "execution_count": 12,
   "id": "28ad88bb-f378-47b0-aaf9-87c43b1260f1",
   "metadata": {},
   "outputs": [
    {
     "name": "stdout",
     "output_type": "stream",
     "text": [
      "-1.2997332\n"
     ]
    }
   ],
   "source": [
    "import tensorflow as tf\n",
    "import numpy as np\n",
    "\n",
    "# Equivalent to tf.constant(3.0, name='constant1')\n",
    "const1 = tf.constant(3.0, name='constant1')\n",
    "\n",
    "# Equivalent to tf.get_variable(\"variable1\", shape=[1,2], dtype=tf.float32)\n",
    "var = tf.Variable(\n",
    "    tf.random.normal([1,2]),\n",
    "    name=\"variable1\",\n",
    "    dtype=tf.float32\n",
    ")\n",
    "\n",
    "# Equivalent to tf.get_variable(\"variable2\", shape=[1,2], trainable=False, dtype=tf.float32)\n",
    "var2 = tf.Variable(\n",
    "    tf.random.normal([1,2]),\n",
    "    name=\"variable2\",\n",
    "    dtype=tf.float32,\n",
    "    trainable=False\n",
    ")\n",
    "\n",
    "# These ops are directly computed in eager mode:\n",
    "op1 = const1 * var\n",
    "op2 = op1 + var2\n",
    "op3 = tf.reduce_mean(op2)\n",
    "\n",
    "# Print results immediately (no Session needed)\n",
    "print(op3.numpy())"
   ]
  },
  {
   "cell_type": "code",
   "execution_count": 13,
   "id": "0841827f-1770-4b6c-97e7-01c1aedde23b",
   "metadata": {},
   "outputs": [],
   "source": [
    "logdir = \"logs/graph_demo\"\n",
    "writer = tf.summary.create_file_writer(logdir)\n",
    "\n",
    "# Actually record the trace\n",
    "with writer.as_default():\n",
    "    tf.summary.trace_on(graph=True, profiler=False)\n",
    "    tf.summary.trace_export(name=\"my_graph\", step=0)"
   ]
  },
  {
   "cell_type": "code",
   "execution_count": 14,
   "id": "bb359e92-3724-4e0b-a247-1138000553c6",
   "metadata": {},
   "outputs": [
    {
     "data": {
      "text/plain": [
       "Reusing TensorBoard on port 6006 (pid 85848), started 2:35:02 ago. (Use '!kill 85848' to kill it.)"
      ]
     },
     "metadata": {},
     "output_type": "display_data"
    },
    {
     "data": {
      "text/html": [
       "\n",
       "      <iframe id=\"tensorboard-frame-e7c10ccffd3661a5\" width=\"100%\" height=\"800\" frameborder=\"0\">\n",
       "      </iframe>\n",
       "      <script>\n",
       "        (function() {\n",
       "          const frame = document.getElementById(\"tensorboard-frame-e7c10ccffd3661a5\");\n",
       "          const url = new URL(\"/\", window.location);\n",
       "          const port = 6006;\n",
       "          if (port) {\n",
       "            url.port = port;\n",
       "          }\n",
       "          frame.src = url;\n",
       "        })();\n",
       "      </script>\n",
       "    "
      ],
      "text/plain": [
       "<IPython.core.display.HTML object>"
      ]
     },
     "metadata": {},
     "output_type": "display_data"
    }
   ],
   "source": [
    "%tensorboard --logdir logs/graph_demo\n"
   ]
  },
  {
   "cell_type": "code",
   "id": "2a6b9053-c6fb-436b-9d57-9a8a0ce56459",
   "metadata": {
    "ExecuteTime": {
     "end_time": "2024-12-29T23:59:13.685350Z",
     "start_time": "2024-12-29T23:59:13.534620Z"
    }
   },
   "source": [
    "with tf.device('/GPU:0'):  # Explicitly use Metal GPU\n",
    "    a = tf.constant([[1.0, 2.0], [3.0, 4.0]])\n",
    "    b = tf.constant([[1.0, 1.0], [0.0, 1.0]])\n",
    "    c = tf.matmul(a, b)\n",
    "    print(c)"
   ],
   "outputs": [
    {
     "name": "stdout",
     "output_type": "stream",
     "text": [
      "tf.Tensor(\n",
      "[[1. 3.]\n",
      " [3. 7.]], shape=(2, 2), dtype=float32)\n"
     ]
    }
   ],
   "execution_count": 25
  },
  {
   "cell_type": "code",
   "execution_count": null,
   "id": "2425d80b-c1c4-4cb3-86ea-3ca72e7b1fa7",
   "metadata": {},
   "outputs": [],
   "source": []
  },
  {
   "cell_type": "code",
   "execution_count": null,
   "id": "f0215ac3-e4cb-46c5-88bd-4b44a4f79917",
   "metadata": {},
   "outputs": [],
   "source": []
  }
 ],
 "metadata": {
  "kernelspec": {
   "display_name": "Python 3 (ipykernel)",
   "language": "python",
   "name": "python3"
  },
  "language_info": {
   "codemirror_mode": {
    "name": "ipython",
    "version": 3
   },
   "file_extension": ".py",
   "mimetype": "text/x-python",
   "name": "python",
   "nbconvert_exporter": "python",
   "pygments_lexer": "ipython3",
   "version": "3.11.11"
  }
 },
 "nbformat": 4,
 "nbformat_minor": 5
}
